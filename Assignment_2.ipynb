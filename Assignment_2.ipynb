{
  "cells": [
    {
      "cell_type": "code",
      "execution_count": 1,
      "metadata": {
        "colab": {
          "base_uri": "https://localhost:8080/"
        },
        "id": "cPdBbxXPtmCV",
        "outputId": "1fa5e58b-2acc-4959-e80e-ba7ebec08528"
      },
      "outputs": [
        {
          "name": "stdout",
          "output_type": "stream",
          "text": [
            "VECTOR:[11  5 19 10 10 11 14 11  2 19 11 13 10  8  4]\n"
          ]
        }
      ],
      "source": [
        "#importing numpy packages\n",
        "from numpy import random\n",
        "vector = random.randint(1,20,(15))\n",
        "print(\"VECTOR:\"+str(vector))"
      ]
    },
    {
      "cell_type": "code",
      "execution_count": 2,
      "metadata": {
        "colab": {
          "base_uri": "https://localhost:8080/"
        },
        "id": "zoj6-udnvRJb",
        "outputId": "d462b38a-a69e-4328-f0ae-515af8f8e0ea"
      },
      "outputs": [
        {
          "name": "stdout",
          "output_type": "stream",
          "text": [
            "SHAPE= (3, 5)\n",
            "RESHAPED ARRAY:[[11  5 19 10 10]\n",
            " [11 14 11  2 19]\n",
            " [11 13 10  8  4]]\n"
          ]
        }
      ],
      "source": [
        "#reshaping the array\n",
        "vector2 = vector.reshape(3, 5)\n",
        "print(\"SHAPE= \"+str(vector2.shape))\n",
        "\n",
        "print(\"RESHAPED ARRAY:\"+str(vector2))\n"
      ]
    },
    {
      "cell_type": "code",
      "execution_count": 5,
      "metadata": {
        "colab": {
          "base_uri": "https://localhost:8080/"
        },
        "id": "N0yMGz6qv1af",
        "outputId": "a86ea797-93ec-40c6-d2d6-5696e516cbc2"
      },
      "outputs": [
        {
          "name": "stdout",
          "output_type": "stream",
          "text": [
            "after replacing max value with zero\n",
            "[[11  5  0 10 10]\n",
            " [11 14 11  2  0]\n",
            " [11  0 10  8  4]]\n"
          ]
        }
      ],
      "source": [
        "#making max value to zero\n",
        "import numpy as np\n",
        "l=len(vector2)\n",
        "vector2[np.arange(l), np.argmax(vector2, axis = 1)] = 0\n",
        "print(\"after replacing max value with zero\")\n",
        "print(vector2)"
      ]
    },
    {
      "cell_type": "code",
      "execution_count": 6,
      "metadata": {
        "colab": {
          "base_uri": "https://localhost:8080/",
          "height": 279
        },
        "id": "LY9GdwzH19lP",
        "outputId": "ea462973-a56d-4e2b-fcff-40c21f4d8970"
      },
      "outputs": [
        {
          "data": {
            "text/html": [
              "\n",
              "  <div id=\"df-5c3c6c46-982a-427e-841f-ec40f3fe5db1\">\n",
              "    <div class=\"colab-df-container\">\n",
              "      <div>\n",
              "<style scoped>\n",
              "    .dataframe tbody tr th:only-of-type {\n",
              "        vertical-align: middle;\n",
              "    }\n",
              "\n",
              "    .dataframe tbody tr th {\n",
              "        vertical-align: top;\n",
              "    }\n",
              "\n",
              "    .dataframe thead th {\n",
              "        text-align: right;\n",
              "    }\n",
              "</style>\n",
              "<table border=\"1\" class=\"dataframe\">\n",
              "  <thead>\n",
              "    <tr style=\"text-align: right;\">\n",
              "      <th></th>\n",
              "      <th>Duration</th>\n",
              "      <th>Pulse</th>\n",
              "      <th>Maxpulse</th>\n",
              "      <th>Calories</th>\n",
              "    </tr>\n",
              "  </thead>\n",
              "  <tbody>\n",
              "    <tr>\n",
              "      <th>count</th>\n",
              "      <td>169.000000</td>\n",
              "      <td>169.000000</td>\n",
              "      <td>169.000000</td>\n",
              "      <td>164.000000</td>\n",
              "    </tr>\n",
              "    <tr>\n",
              "      <th>mean</th>\n",
              "      <td>63.846154</td>\n",
              "      <td>107.461538</td>\n",
              "      <td>134.047337</td>\n",
              "      <td>375.790244</td>\n",
              "    </tr>\n",
              "    <tr>\n",
              "      <th>std</th>\n",
              "      <td>42.299949</td>\n",
              "      <td>14.510259</td>\n",
              "      <td>16.450434</td>\n",
              "      <td>266.379919</td>\n",
              "    </tr>\n",
              "    <tr>\n",
              "      <th>min</th>\n",
              "      <td>15.000000</td>\n",
              "      <td>80.000000</td>\n",
              "      <td>100.000000</td>\n",
              "      <td>50.300000</td>\n",
              "    </tr>\n",
              "    <tr>\n",
              "      <th>25%</th>\n",
              "      <td>45.000000</td>\n",
              "      <td>100.000000</td>\n",
              "      <td>124.000000</td>\n",
              "      <td>250.925000</td>\n",
              "    </tr>\n",
              "    <tr>\n",
              "      <th>50%</th>\n",
              "      <td>60.000000</td>\n",
              "      <td>105.000000</td>\n",
              "      <td>131.000000</td>\n",
              "      <td>318.600000</td>\n",
              "    </tr>\n",
              "    <tr>\n",
              "      <th>75%</th>\n",
              "      <td>60.000000</td>\n",
              "      <td>111.000000</td>\n",
              "      <td>141.000000</td>\n",
              "      <td>387.600000</td>\n",
              "    </tr>\n",
              "    <tr>\n",
              "      <th>max</th>\n",
              "      <td>300.000000</td>\n",
              "      <td>159.000000</td>\n",
              "      <td>184.000000</td>\n",
              "      <td>1860.400000</td>\n",
              "    </tr>\n",
              "  </tbody>\n",
              "</table>\n",
              "</div>\n",
              "      <button class=\"colab-df-convert\" onclick=\"convertToInteractive('df-5c3c6c46-982a-427e-841f-ec40f3fe5db1')\"\n",
              "              title=\"Convert this dataframe to an interactive table.\"\n",
              "              style=\"display:none;\">\n",
              "        \n",
              "  <svg xmlns=\"http://www.w3.org/2000/svg\" height=\"24px\"viewBox=\"0 0 24 24\"\n",
              "       width=\"24px\">\n",
              "    <path d=\"M0 0h24v24H0V0z\" fill=\"none\"/>\n",
              "    <path d=\"M18.56 5.44l.94 2.06.94-2.06 2.06-.94-2.06-.94-.94-2.06-.94 2.06-2.06.94zm-11 1L8.5 8.5l.94-2.06 2.06-.94-2.06-.94L8.5 2.5l-.94 2.06-2.06.94zm10 10l.94 2.06.94-2.06 2.06-.94-2.06-.94-.94-2.06-.94 2.06-2.06.94z\"/><path d=\"M17.41 7.96l-1.37-1.37c-.4-.4-.92-.59-1.43-.59-.52 0-1.04.2-1.43.59L10.3 9.45l-7.72 7.72c-.78.78-.78 2.05 0 2.83L4 21.41c.39.39.9.59 1.41.59.51 0 1.02-.2 1.41-.59l7.78-7.78 2.81-2.81c.8-.78.8-2.07 0-2.86zM5.41 20L4 18.59l7.72-7.72 1.47 1.35L5.41 20z\"/>\n",
              "  </svg>\n",
              "      </button>\n",
              "      \n",
              "  <style>\n",
              "    .colab-df-container {\n",
              "      display:flex;\n",
              "      flex-wrap:wrap;\n",
              "      gap: 12px;\n",
              "    }\n",
              "\n",
              "    .colab-df-convert {\n",
              "      background-color: #E8F0FE;\n",
              "      border: none;\n",
              "      border-radius: 50%;\n",
              "      cursor: pointer;\n",
              "      display: none;\n",
              "      fill: #1967D2;\n",
              "      height: 32px;\n",
              "      padding: 0 0 0 0;\n",
              "      width: 32px;\n",
              "    }\n",
              "\n",
              "    .colab-df-convert:hover {\n",
              "      background-color: #E2EBFA;\n",
              "      box-shadow: 0px 1px 2px rgba(60, 64, 67, 0.3), 0px 1px 3px 1px rgba(60, 64, 67, 0.15);\n",
              "      fill: #174EA6;\n",
              "    }\n",
              "\n",
              "    [theme=dark] .colab-df-convert {\n",
              "      background-color: #3B4455;\n",
              "      fill: #D2E3FC;\n",
              "    }\n",
              "\n",
              "    [theme=dark] .colab-df-convert:hover {\n",
              "      background-color: #434B5C;\n",
              "      box-shadow: 0px 1px 3px 1px rgba(0, 0, 0, 0.15);\n",
              "      filter: drop-shadow(0px 1px 2px rgba(0, 0, 0, 0.3));\n",
              "      fill: #FFFFFF;\n",
              "    }\n",
              "  </style>\n",
              "\n",
              "      <script>\n",
              "        const buttonEl =\n",
              "          document.querySelector('#df-5c3c6c46-982a-427e-841f-ec40f3fe5db1 button.colab-df-convert');\n",
              "        buttonEl.style.display =\n",
              "          google.colab.kernel.accessAllowed ? 'block' : 'none';\n",
              "\n",
              "        async function convertToInteractive(key) {\n",
              "          const element = document.querySelector('#df-5c3c6c46-982a-427e-841f-ec40f3fe5db1');\n",
              "          const dataTable =\n",
              "            await google.colab.kernel.invokeFunction('convertToInteractive',\n",
              "                                                     [key], {});\n",
              "          if (!dataTable) return;\n",
              "\n",
              "          const docLinkHtml = 'Like what you see? Visit the ' +\n",
              "            '<a target=\"_blank\" href=https://colab.research.google.com/notebooks/data_table.ipynb>data table notebook</a>'\n",
              "            + ' to learn more about interactive tables.';\n",
              "          element.innerHTML = '';\n",
              "          dataTable['output_type'] = 'display_data';\n",
              "          await google.colab.output.renderOutput(dataTable, element);\n",
              "          const docLink = document.createElement('div');\n",
              "          docLink.innerHTML = docLinkHtml;\n",
              "          element.appendChild(docLink);\n",
              "        }\n",
              "      </script>\n",
              "    </div>\n",
              "  </div>\n",
              "  "
            ],
            "text/plain": [
              "         Duration       Pulse    Maxpulse     Calories\n",
              "count  169.000000  169.000000  169.000000   164.000000\n",
              "mean    63.846154  107.461538  134.047337   375.790244\n",
              "std     42.299949   14.510259   16.450434   266.379919\n",
              "min     15.000000   80.000000  100.000000    50.300000\n",
              "25%     45.000000  100.000000  124.000000   250.925000\n",
              "50%     60.000000  105.000000  131.000000   318.600000\n",
              "75%     60.000000  111.000000  141.000000   387.600000\n",
              "max    300.000000  159.000000  184.000000  1860.400000"
            ]
          },
          "execution_count": 6,
          "metadata": {},
          "output_type": "execute_result"
        }
      ],
      "source": [
        "import pandas\n",
        "df = pandas.read_csv('data.csv')\n",
        "df.describe()"
      ]
    },
    {
      "cell_type": "code",
      "execution_count": 7,
      "metadata": {
        "colab": {
          "base_uri": "https://localhost:8080/"
        },
        "id": "tsEn4xAINOzq",
        "outputId": "ca67b351-0e37-4a65-fd52-d8818f404b1e"
      },
      "outputs": [
        {
          "name": "stdout",
          "output_type": "stream",
          "text": [
            "     Duration  Pulse  Maxpulse     Calories\n",
            "0          60    110       130   409.100000\n",
            "1          60    117       145   479.000000\n",
            "2          60    103       135   340.000000\n",
            "3          45    109       175   282.400000\n",
            "4          45    117       148   406.000000\n",
            "5          60    102       127   300.000000\n",
            "6          60    110       136   374.000000\n",
            "7          45    104       134   253.300000\n",
            "8          30    109       133   195.100000\n",
            "9          60     98       124   269.000000\n",
            "10         60    103       147   329.300000\n",
            "11         60    100       120   250.700000\n",
            "12         60    106       128   345.300000\n",
            "13         60    104       132   379.300000\n",
            "14         60     98       123   275.000000\n",
            "15         60     98       120   215.200000\n",
            "16         60    100       120   300.000000\n",
            "17         45     90       112   375.790244\n",
            "18         60    103       123   323.000000\n",
            "19         45     97       125   243.000000\n",
            "20         60    108       131   364.200000\n",
            "21         45    100       119   282.000000\n",
            "22         60    130       101   300.000000\n",
            "23         45    105       132   246.000000\n",
            "24         60    102       126   334.500000\n",
            "25         60    100       120   250.000000\n",
            "26         60     92       118   241.000000\n",
            "27         60    103       132   375.790244\n",
            "28         60    100       132   280.000000\n",
            "29         60    102       129   380.300000\n",
            "30         60     92       115   243.000000\n",
            "31         45     90       112   180.100000\n",
            "32         60    101       124   299.000000\n",
            "33         60     93       113   223.000000\n",
            "34         60    107       136   361.000000\n",
            "35         60    114       140   415.000000\n",
            "36         60    102       127   300.000000\n",
            "37         60    100       120   300.000000\n",
            "38         60    100       120   300.000000\n",
            "39         45    104       129   266.000000\n",
            "40         45     90       112   180.100000\n",
            "41         60     98       126   286.000000\n",
            "42         60    100       122   329.400000\n",
            "43         60    111       138   400.000000\n",
            "44         60    111       131   397.000000\n",
            "45         60     99       119   273.000000\n",
            "46         60    109       153   387.600000\n",
            "47         45    111       136   300.000000\n",
            "48         45    108       129   298.000000\n",
            "49         60    111       139   397.600000\n",
            "50         60    107       136   380.200000\n",
            "51         80    123       146   643.100000\n",
            "52         60    106       130   263.000000\n",
            "53         60    118       151   486.000000\n",
            "54         30    136       175   238.000000\n",
            "55         60    121       146   450.700000\n",
            "56         60    118       121   413.000000\n",
            "57         45    115       144   305.000000\n",
            "58         20    153       172   226.400000\n",
            "59         45    123       152   321.000000\n",
            "60        210    108       160  1376.000000\n",
            "61        160    110       137  1034.400000\n",
            "62        160    109       135   853.000000\n",
            "63         45    118       141   341.000000\n",
            "64         20    110       130   131.400000\n",
            "65        180     90       130   800.400000\n",
            "66        150    105       135   873.400000\n",
            "67        150    107       130   816.000000\n",
            "68         20    106       136   110.400000\n",
            "69        300    108       143  1500.200000\n",
            "70        150     97       129  1115.000000\n",
            "71         60    109       153   387.600000\n",
            "72         90    100       127   700.000000\n",
            "73        150     97       127   953.200000\n",
            "74         45    114       146   304.000000\n",
            "75         90     98       125   563.200000\n",
            "76         45    105       134   251.000000\n",
            "77         45    110       141   300.000000\n",
            "78        120    100       130   500.400000\n",
            "79        270    100       131  1729.000000\n",
            "80         30    159       182   319.200000\n",
            "81         45    149       169   344.000000\n",
            "82         30    103       139   151.100000\n",
            "83        120    100       130   500.000000\n",
            "84         45    100       120   225.300000\n",
            "85         30    151       170   300.000000\n",
            "86         45    102       136   234.000000\n",
            "87        120    100       157  1000.100000\n",
            "88         45    129       103   242.000000\n",
            "89         20     83       107    50.300000\n",
            "90        180    101       127   600.100000\n",
            "91         45    107       137   375.790244\n",
            "92         30     90       107   105.300000\n",
            "93         15     80       100    50.500000\n",
            "94         20    150       171   127.400000\n",
            "95         20    151       168   229.400000\n",
            "96         30     95       128   128.200000\n",
            "97         25    152       168   244.200000\n",
            "98         30    109       131   188.200000\n",
            "99         90     93       124   604.100000\n",
            "100        20     95       112    77.700000\n",
            "101        90     90       110   500.000000\n",
            "102        90     90       100   500.000000\n",
            "103        90     90       100   500.400000\n",
            "104        30     92       108    92.700000\n",
            "105        30     93       128   124.000000\n",
            "106       180     90       120   800.300000\n",
            "107        30     90       120    86.200000\n",
            "108        90     90       120   500.300000\n",
            "109       210    137       184  1860.400000\n",
            "110        60    102       124   325.200000\n",
            "111        45    107       124   275.000000\n",
            "112        15    124       139   124.200000\n",
            "113        45    100       120   225.300000\n",
            "114        60    108       131   367.600000\n",
            "115        60    108       151   351.700000\n",
            "116        60    116       141   443.000000\n",
            "117        60     97       122   277.400000\n",
            "118        60    105       125   375.790244\n",
            "119        60    103       124   332.700000\n",
            "120        30    112       137   193.900000\n",
            "121        45    100       120   100.700000\n",
            "122        60    119       169   336.700000\n",
            "123        60    107       127   344.900000\n",
            "124        60    111       151   368.500000\n",
            "125        60     98       122   271.000000\n",
            "126        60     97       124   275.300000\n",
            "127        60    109       127   382.000000\n",
            "128        90     99       125   466.400000\n",
            "129        60    114       151   384.000000\n",
            "130        60    104       134   342.500000\n",
            "131        60    107       138   357.500000\n",
            "132        60    103       133   335.000000\n",
            "133        60    106       132   327.500000\n",
            "134        60    103       136   339.000000\n",
            "135        20    136       156   189.000000\n",
            "136        45    117       143   317.700000\n",
            "137        45    115       137   318.000000\n",
            "138        45    113       138   308.000000\n",
            "139        20    141       162   222.400000\n",
            "140        60    108       135   390.000000\n",
            "141        60     97       127   375.790244\n",
            "142        45    100       120   250.400000\n",
            "143        45    122       149   335.400000\n",
            "144        60    136       170   470.200000\n",
            "145        45    106       126   270.800000\n",
            "146        60    107       136   400.000000\n",
            "147        60    112       146   361.900000\n",
            "148        30    103       127   185.000000\n",
            "149        60    110       150   409.400000\n",
            "150        60    106       134   343.000000\n",
            "151        60    109       129   353.200000\n",
            "152        60    109       138   374.000000\n",
            "153        30    150       167   275.800000\n",
            "154        60    105       128   328.000000\n",
            "155        60    111       151   368.500000\n",
            "156        60     97       131   270.400000\n",
            "157        60    100       120   270.400000\n",
            "158        60    114       150   382.800000\n",
            "159        30     80       120   240.900000\n",
            "160        30     85       120   250.400000\n",
            "161        45     90       130   260.400000\n",
            "162        45     95       130   270.000000\n",
            "163        45    100       140   280.900000\n",
            "164        60    105       140   290.800000\n",
            "165        60    110       145   300.000000\n",
            "166        60    115       145   310.200000\n",
            "167        75    120       150   320.400000\n",
            "168        75    125       150   330.400000\n"
          ]
        }
      ],
      "source": [
        "#filling the null values\n",
        "df = df.fillna(df.mean())\n",
        "print(df.to_string())"
      ]
    },
    {
      "cell_type": "code",
      "execution_count": 8,
      "metadata": {
        "colab": {
          "base_uri": "https://localhost:8080/"
        },
        "id": "tIJsSuMeNCoi",
        "outputId": "b3e389c9-cd79-496d-e0fb-4f88764ab722"
      },
      "outputs": [
        {
          "name": "stdout",
          "output_type": "stream",
          "text": [
            "Min(MaxPulse): 100\n",
            "Max(MaxPulse): 184\n",
            "Count(MaxPulse): 169\n",
            "Mean(MaxPulse): 134.0473372781065\n",
            "\n",
            "\n",
            "Min(Calories): 50.3\n",
            "Max(Calories): 1860.4\n",
            "Count(Calories): 169\n",
            "Mean(Calories): 375.79024390243904\n"
          ]
        }
      ],
      "source": [
        "\n",
        "print(\"Min(MaxPulse): \"+str(df.Maxpulse.min()))\n",
        "print(\"Max(MaxPulse): \"+str(df.Maxpulse.max()))\n",
        "print(\"Count(MaxPulse): \"+str(df.Maxpulse.count()))\n",
        "print(\"Mean(MaxPulse): \"+str(df.Maxpulse.mean()))\n",
        "print(\"\\n\")\n",
        "print(\"Min(Calories): \"+str(df.Calories.min()))\n",
        "print(\"Max(Calories): \"+str(df.Calories.max()))\n",
        "print(\"Count(Calories): \"+str(df.Calories.count()))\n",
        "print(\"Mean(Calories): \"+str(df.Calories.mean()))\n"
      ]
    },
    {
      "cell_type": "code",
      "execution_count": 9,
      "metadata": {
        "colab": {
          "base_uri": "https://localhost:8080/"
        },
        "id": "kSuI9HgR8gLi",
        "outputId": "5cd2e7ba-530e-438e-f47e-3ec60a50bec0"
      },
      "outputs": [
        {
          "name": "stdout",
          "output_type": "stream",
          "text": [
            "     Duration  Pulse  Maxpulse  Calories\n",
            "51         80    123       146     643.1\n",
            "62        160    109       135     853.0\n",
            "65        180     90       130     800.4\n",
            "66        150    105       135     873.4\n",
            "67        150    107       130     816.0\n",
            "72         90    100       127     700.0\n",
            "73        150     97       127     953.2\n",
            "75         90     98       125     563.2\n",
            "78        120    100       130     500.4\n",
            "83        120    100       130     500.0\n",
            "90        180    101       127     600.1\n",
            "99         90     93       124     604.1\n",
            "101        90     90       110     500.0\n",
            "102        90     90       100     500.0\n",
            "103        90     90       100     500.4\n",
            "106       180     90       120     800.3\n",
            "108        90     90       120     500.3\n",
            "\n",
            "\n",
            "     Duration  Pulse  Maxpulse  Calories\n",
            "65        180     90       130     800.4\n",
            "70        150     97       129    1115.0\n",
            "73        150     97       127     953.2\n",
            "75         90     98       125     563.2\n",
            "99         90     93       124     604.1\n",
            "103        90     90       100     500.4\n",
            "106       180     90       120     800.3\n",
            "108        90     90       120     500.3\n"
          ]
        }
      ],
      "source": [
        "temp=(df['Calories'] >= 500)\n",
        "temp2=(df['Calories'] <= 1000)\n",
        "print(df.loc[temp & temp2])\n",
        "print(\"\\n\")\n",
        "x=(df['Calories'] > 500)\n",
        "y=(df['Pulse'] < 100)\n",
        "print(df.loc[x & y])\n"
      ]
    },
    {
      "cell_type": "code",
      "execution_count": 10,
      "metadata": {
        "colab": {
          "base_uri": "https://localhost:8080/"
        },
        "id": "ZdS8uni6OEAP",
        "outputId": "10145b5c-9a3a-4957-b454-0aadebef6b76"
      },
      "outputs": [
        {
          "name": "stdout",
          "output_type": "stream",
          "text": [
            "\n",
            "MODIFE DATAFRAME\n",
            "\n",
            "\n",
            "DELETE MAXPULSE COLUMN\n",
            "\n",
            "AFTER DELETION\n",
            "\n",
            "     Duration  Pulse  Calories\n",
            "0          60    110     409.1\n",
            "1          60    117     479.0\n",
            "2          60    103     340.0\n",
            "3          45    109     282.4\n",
            "4          45    117     406.0\n",
            "..        ...    ...       ...\n",
            "164        60    105     290.8\n",
            "165        60    110     300.0\n",
            "166        60    115     310.2\n",
            "167        75    120     320.4\n",
            "168        75    125     330.4\n",
            "\n",
            "[169 rows x 3 columns]\n",
            "\n",
            "DATA TYPES \n",
            "\n",
            "BEFORE:float64\n",
            "\n",
            "DATA TYPES AFTER CONVERTED\n",
            "\n",
            "BEFORE:int64\n"
          ]
        }
      ],
      "source": [
        "\n",
        "print(\"\\nMODIFE DATAFRAME\\n\")\n",
        "COL=['Duration','Pulse','Calories']\n",
        "df_modified = df[COL]\n",
        "df_modified.describe()\n",
        "\n",
        "print(\"\\nDELETE MAXPULSE COLUMN\\n\")\n",
        "del df['Maxpulse']\n",
        "print(\"AFTER DELETION\\n\")\n",
        "print(df)\n",
        "print(\"\\nDATA TYPES \\n\")\n",
        "print(\"BEFORE:\"+str(df.Calories.dtypes))\n",
        "df['Calories'] = df['Calories'].astype('int')\n",
        "print(\"\\nDATA TYPES AFTER CONVERTED\\n\")\n",
        "print(\"BEFORE:\"+str(df.Calories.dtypes))\n"
      ]
    },
    {
      "cell_type": "code",
      "execution_count": 11,
      "metadata": {
        "colab": {
          "base_uri": "https://localhost:8080/",
          "height": 295
        },
        "id": "n5StWxU7AUbo",
        "outputId": "fe7d81f5-34e8-44b5-9df9-7b67c85b2a50"
      },
      "outputs": [
        {
          "data": {
            "image/png": "[encoded data removed]",
            "text/plain": [
              "<Figure size 432x288 with 1 Axes>"
            ]
          },
          "metadata": {
            "needs_background": "light"
          },
          "output_type": "display_data"
        }
      ],
      "source": [
        "import matplotlib.pyplot as plot\n",
        "df.plot.scatter(x='Duration', y='Calories', title= \"PLOT BTW Duration & Calories\");\n",
        "\n",
        "plot.show(block=True);"
      ]
    },
    {
      "cell_type": "code",
      "execution_count": 12,
      "metadata": {
        "colab": {
          "base_uri": "https://localhost:8080/",
          "height": 248
        },
        "id": "Jlxu0lPjAjP3",
        "outputId": "272aa0af-60a3-47d8-a13e-cdf8f0923500"
      },
      "outputs": [
        {
          "data": {
            "image/png": "[encoded data removed]",
            "text/plain": [
              "<Figure size 432x288 with 1 Axes>"
            ]
          },
          "metadata": {},
          "output_type": "display_data"
        }
      ],
      "source": [
        "import matplotlib.pyplot as plt\n",
        "import numpy\n",
        "Popularlty_array = numpy.array([22.2, 17.6, 8.8, 8, 7.7, 6.7])\n",
        "plt.pie(Popularlty_array, labels = [\"Java\", \"Python\",\"PHP\", \"JavaScript\", \"C#\",\"C++\"], explode = [0.1, 0, 0, 0,0,0], shadow = True,autopct='%.1f%%',startangle=140)\n",
        "plt.show() "
      ]
    }
  ],
  "metadata": {
    "colab": {
      "provenance": []
    },
    "kernelspec": {
      "display_name": "Python 3",
      "name": "python3"
    },
    "language_info": {
      "name": "python"
    }
  },
  "nbformat": 4,
  "nbformat_minor": 0
}
